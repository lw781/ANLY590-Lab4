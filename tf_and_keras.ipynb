{
  "nbformat": 4,
  "nbformat_minor": 0,
  "metadata": {
    "accelerator": "GPU",
    "colab": {
      "name": "tf_and_keras.ipynb",
      "provenance": [],
      "collapsed_sections": []
    },
    "kernelspec": {
      "display_name": "Python 3",
      "language": "python",
      "name": "python3"
    },
    "language_info": {
      "codemirror_mode": {
        "name": "ipython",
        "version": 3
      },
      "file_extension": ".py",
      "mimetype": "text/x-python",
      "name": "python",
      "nbconvert_exporter": "python",
      "pygments_lexer": "ipython3",
      "version": "3.7.3"
    },
    "widgets": {
      "application/vnd.jupyter.widget-state+json": {
        "5e0ab09a91f94d51a7d5885bcbaaa4fb": {
          "model_module": "@jupyter-widgets/controls",
          "model_name": "HBoxModel",
          "state": {
            "_view_name": "HBoxView",
            "_dom_classes": [],
            "_model_name": "HBoxModel",
            "_view_module": "@jupyter-widgets/controls",
            "_model_module_version": "1.5.0",
            "_view_count": null,
            "_view_module_version": "1.5.0",
            "box_style": "",
            "layout": "IPY_MODEL_e13b85dcdd8c47048ac8686e8416c9f7",
            "_model_module": "@jupyter-widgets/controls",
            "children": [
              "IPY_MODEL_9e1f57eddb344542b57c861a517102b0",
              "IPY_MODEL_5d24b4510d07479eb221cc7943556d2f"
            ]
          }
        },
        "e13b85dcdd8c47048ac8686e8416c9f7": {
          "model_module": "@jupyter-widgets/base",
          "model_name": "LayoutModel",
          "state": {
            "_view_name": "LayoutView",
            "grid_template_rows": null,
            "right": null,
            "justify_content": null,
            "_view_module": "@jupyter-widgets/base",
            "overflow": null,
            "_model_module_version": "1.2.0",
            "_view_count": null,
            "flex_flow": null,
            "width": null,
            "min_width": null,
            "border": null,
            "align_items": null,
            "bottom": null,
            "_model_module": "@jupyter-widgets/base",
            "top": null,
            "grid_column": null,
            "overflow_y": null,
            "overflow_x": null,
            "grid_auto_flow": null,
            "grid_area": null,
            "grid_template_columns": null,
            "flex": null,
            "_model_name": "LayoutModel",
            "justify_items": null,
            "grid_row": null,
            "max_height": null,
            "align_content": null,
            "visibility": null,
            "align_self": null,
            "height": null,
            "min_height": null,
            "padding": null,
            "grid_auto_rows": null,
            "grid_gap": null,
            "max_width": null,
            "order": null,
            "_view_module_version": "1.2.0",
            "grid_template_areas": null,
            "object_position": null,
            "object_fit": null,
            "grid_auto_columns": null,
            "margin": null,
            "display": null,
            "left": null
          }
        },
        "9e1f57eddb344542b57c861a517102b0": {
          "model_module": "@jupyter-widgets/controls",
          "model_name": "FloatProgressModel",
          "state": {
            "_view_name": "ProgressView",
            "style": "IPY_MODEL_f7cf87d7e91440669ed657f8992349ab",
            "_dom_classes": [],
            "description": "100%",
            "_model_name": "FloatProgressModel",
            "bar_style": "success",
            "max": 1000,
            "_view_module": "@jupyter-widgets/controls",
            "_model_module_version": "1.5.0",
            "value": 1000,
            "_view_count": null,
            "_view_module_version": "1.5.0",
            "orientation": "horizontal",
            "min": 0,
            "description_tooltip": null,
            "_model_module": "@jupyter-widgets/controls",
            "layout": "IPY_MODEL_0226edd2bdf94af4b4cae8bea979b180"
          }
        },
        "5d24b4510d07479eb221cc7943556d2f": {
          "model_module": "@jupyter-widgets/controls",
          "model_name": "HTMLModel",
          "state": {
            "_view_name": "HTMLView",
            "style": "IPY_MODEL_8f21acc8b7a1437a935a54cd540add93",
            "_dom_classes": [],
            "description": "",
            "_model_name": "HTMLModel",
            "placeholder": "​",
            "_view_module": "@jupyter-widgets/controls",
            "_model_module_version": "1.5.0",
            "value": " 1000/1000 [00:03&lt;00:00, 317.66it/s]",
            "_view_count": null,
            "_view_module_version": "1.5.0",
            "description_tooltip": null,
            "_model_module": "@jupyter-widgets/controls",
            "layout": "IPY_MODEL_12179d2c4ce2466eb1707b8cba266246"
          }
        },
        "f7cf87d7e91440669ed657f8992349ab": {
          "model_module": "@jupyter-widgets/controls",
          "model_name": "ProgressStyleModel",
          "state": {
            "_view_name": "StyleView",
            "_model_name": "ProgressStyleModel",
            "description_width": "initial",
            "_view_module": "@jupyter-widgets/base",
            "_model_module_version": "1.5.0",
            "_view_count": null,
            "_view_module_version": "1.2.0",
            "bar_color": null,
            "_model_module": "@jupyter-widgets/controls"
          }
        },
        "0226edd2bdf94af4b4cae8bea979b180": {
          "model_module": "@jupyter-widgets/base",
          "model_name": "LayoutModel",
          "state": {
            "_view_name": "LayoutView",
            "grid_template_rows": null,
            "right": null,
            "justify_content": null,
            "_view_module": "@jupyter-widgets/base",
            "overflow": null,
            "_model_module_version": "1.2.0",
            "_view_count": null,
            "flex_flow": null,
            "width": null,
            "min_width": null,
            "border": null,
            "align_items": null,
            "bottom": null,
            "_model_module": "@jupyter-widgets/base",
            "top": null,
            "grid_column": null,
            "overflow_y": null,
            "overflow_x": null,
            "grid_auto_flow": null,
            "grid_area": null,
            "grid_template_columns": null,
            "flex": null,
            "_model_name": "LayoutModel",
            "justify_items": null,
            "grid_row": null,
            "max_height": null,
            "align_content": null,
            "visibility": null,
            "align_self": null,
            "height": null,
            "min_height": null,
            "padding": null,
            "grid_auto_rows": null,
            "grid_gap": null,
            "max_width": null,
            "order": null,
            "_view_module_version": "1.2.0",
            "grid_template_areas": null,
            "object_position": null,
            "object_fit": null,
            "grid_auto_columns": null,
            "margin": null,
            "display": null,
            "left": null
          }
        },
        "8f21acc8b7a1437a935a54cd540add93": {
          "model_module": "@jupyter-widgets/controls",
          "model_name": "DescriptionStyleModel",
          "state": {
            "_view_name": "StyleView",
            "_model_name": "DescriptionStyleModel",
            "description_width": "",
            "_view_module": "@jupyter-widgets/base",
            "_model_module_version": "1.5.0",
            "_view_count": null,
            "_view_module_version": "1.2.0",
            "_model_module": "@jupyter-widgets/controls"
          }
        },
        "12179d2c4ce2466eb1707b8cba266246": {
          "model_module": "@jupyter-widgets/base",
          "model_name": "LayoutModel",
          "state": {
            "_view_name": "LayoutView",
            "grid_template_rows": null,
            "right": null,
            "justify_content": null,
            "_view_module": "@jupyter-widgets/base",
            "overflow": null,
            "_model_module_version": "1.2.0",
            "_view_count": null,
            "flex_flow": null,
            "width": null,
            "min_width": null,
            "border": null,
            "align_items": null,
            "bottom": null,
            "_model_module": "@jupyter-widgets/base",
            "top": null,
            "grid_column": null,
            "overflow_y": null,
            "overflow_x": null,
            "grid_auto_flow": null,
            "grid_area": null,
            "grid_template_columns": null,
            "flex": null,
            "_model_name": "LayoutModel",
            "justify_items": null,
            "grid_row": null,
            "max_height": null,
            "align_content": null,
            "visibility": null,
            "align_self": null,
            "height": null,
            "min_height": null,
            "padding": null,
            "grid_auto_rows": null,
            "grid_gap": null,
            "max_width": null,
            "order": null,
            "_view_module_version": "1.2.0",
            "grid_template_areas": null,
            "object_position": null,
            "object_fit": null,
            "grid_auto_columns": null,
            "margin": null,
            "display": null,
            "left": null
          }
        }
      }
    }
  },
  "cells": [
    {
      "cell_type": "code",
      "metadata": {
        "id": "i_SjPxONCeUY"
      },
      "source": [
        "import numpy as np\n",
        "import tensorflow as tf\n",
        "import matplotlib.pyplot as plt"
      ],
      "execution_count": 1,
      "outputs": []
    },
    {
      "cell_type": "markdown",
      "metadata": {
        "id": "xnjjUBk2USFz"
      },
      "source": [
        "#### first steps in TensorFlow\n",
        "\n",
        "TensorFlow is a framework for automatic differentiation. It has an interface very similar to that of NumPy operating on array data. Let's start by rewriting our NumPy functions for a single neural net layer and a simple two-layer neural net in TensorFlow.\n",
        "\n",
        "A few notes:\n",
        "1. Instead of using `np.dot` for matrix multiplication, check out the `tf.matmul` function instead.\n",
        "2. TensorFlow already has built-in functions for all of the common neural net activation functions with the exception of the \"linear\" activation function, which in TensorFlow is often thought of as having no activation function (since $f(x)=x$ does not change the input). We show you where to find these activation functions in the package and provide a simple implementation of the linear activation function.\n",
        "3. notice that we are using a slightly different function signature for the neural network that lets us pack all of the parameters (weights and biases) into a list, as this will be convenient later when it comes to fitting the model."
      ]
    },
    {
      "cell_type": "code",
      "metadata": {
        "id": "i9Rg-tq8CkvB"
      },
      "source": [
        "# activation functions\n",
        "tf.nn.sigmoid\n",
        "tf.nn.tanh\n",
        "tf.nn.relu\n",
        "linear = lambda x: x\n",
        "\n",
        "def nn_layer(x, w, b, f):\n",
        "  '''\n",
        "  transformation for a single layer of a neural net\n",
        "\n",
        "  x: array on inputs, shape: (batch size, input dim)\n",
        "  w: array of weights, shape: (input dim, output dim)\n",
        "  b: array of biases, shape: (output dim)\n",
        "  f: activation function\n",
        "  '''\n",
        "  return f(x @ w+b)\n",
        "\n",
        "def nn_2layers(x, params, f_hidden, f_out):\n",
        "  '''\n",
        "  transformation for simple 2 layer neural net (hidden + output layers)\n",
        "\n",
        "  x: array of inputs\n",
        "  params: list of parameter arrays: [w_1, b_1, w_2, b_2]\n",
        "  f_hidden: activation function on the hidden layer\n",
        "  f_out: output function on the output layer\n",
        "  '''\n",
        "  h = nn_layer(x,params[0],params[1],f_hidden)\n",
        "  yhat = nn_layer(h,params[2],params[3],f_out)\n",
        "  return yhat"
      ],
      "execution_count": 2,
      "outputs": []
    },
    {
      "cell_type": "markdown",
      "metadata": {
        "id": "JhThmdLRY-3_"
      },
      "source": [
        "Here is a quick test to check if your code is working, at least for a simple case"
      ]
    },
    {
      "cell_type": "code",
      "metadata": {
        "id": "gAEL5fDSW18b"
      },
      "source": [
        "w1 = tf.ones((1, 10))\n",
        "b1 = tf.zeros(10)\n",
        "w2 = tf.ones((10, 1))\n",
        "b2 = tf.ones(1)\n",
        "x = 2 * tf.ones((1, 1))\n",
        "yhat = nn_2layers(x, [w1, b1, w2, b2], linear, linear)\n",
        "assert yhat.numpy().squeeze() == 21."
      ],
      "execution_count": 3,
      "outputs": []
    },
    {
      "cell_type": "markdown",
      "metadata": {
        "id": "WG9xLmTVZVku"
      },
      "source": [
        "Now let's take a quick look at how TensorFlow can compute derivatives/gradients in a few simpler cases as we build up to using it to fit a neural network.\n",
        "\n",
        "First let's do a simple function where we know the answer -- let's compute the derivative of $f(x) = x^2 + 5x$.\n",
        "\n",
        "Do do this we the `tf.GradientTape()` object as a \"context manager\" where TensorFlow will track the computational graph of the calculation of $f(x)$ during the \"forward pass\". Then we can ask the tape to for the derivate of one of our values with respect to another, and it will be able to use the information that it stored to compute the \"backward pass\" to produce the desired result.\n",
        "\n",
        "We will compute the gradient at $x = 1$, where we know the results should be:\n",
        "$$\n",
        "\\begin{align}\n",
        "f(1) &=  1^2 + 5 = 6 \\\\\n",
        "f'(x) &= 2x+5 \\\\\n",
        "f'(1) &= 2\\cdot 1 + 5 = 7\n",
        "\\end{align}\n",
        "$$"
      ]
    },
    {
      "cell_type": "code",
      "metadata": {
        "id": "JRFyaC0UZTmU",
        "outputId": "396c97c5-fe7a-4421-9905-45d59b3d46de",
        "colab": {
          "base_uri": "https://localhost:8080/",
          "height": 50
        }
      },
      "source": [
        "x = tf.Variable(1.0)\n",
        "with tf.GradientTape() as tape:\n",
        "  f_x = x**2 + 5*x\n",
        "print(f_x)\n",
        "print(tape.gradient(f_x, x))"
      ],
      "execution_count": 4,
      "outputs": [
        {
          "output_type": "stream",
          "text": [
            "tf.Tensor(6.0, shape=(), dtype=float32)\n",
            "tf.Tensor(7.0, shape=(), dtype=float32)\n"
          ],
          "name": "stdout"
        }
      ]
    },
    {
      "cell_type": "markdown",
      "metadata": {
        "id": "3uxUuSVkmg2U"
      },
      "source": [
        "Now let's try something a little more challenging. Consider the function\n",
        "$$\n",
        "f(x, y) = \\frac{e^x\\cdot \\sin{\\sqrt{y + x^3}}}{\\tanh{y}}\n",
        "$$\n",
        "Compute its gradient:\n",
        "$$\n",
        "\\Big[\\frac{\\partial f}{\\partial x}, \\frac{\\partial f}{\\partial y}\\Big]\n",
        "$$\n",
        "when $x = 1$, $y = 2$.\n",
        "\n",
        "Look at the docs for `GradientTape.gradient` to figure out how to compute multiple derivatives at once."
      ]
    },
    {
      "cell_type": "code",
      "metadata": {
        "id": "MoVyu6BXmaF0",
        "outputId": "bee6a564-16b6-49d2-8cb8-f751bbd53d7c",
        "colab": {
          "base_uri": "https://localhost:8080/",
          "height": 50
        }
      },
      "source": [
        "x, y = tf.Variable(1.0), tf.Variable(2.0)\n",
        "with tf.GradientTape() as tape:\n",
        "  num = tf.exp(x) + tf.sin(tf.sqrt(y+x**3))\n",
        "  dem = tf.nn.tanh(y)\n",
        "  f = num/dem\n",
        "print(f)\n",
        "print(tape.gradient(f,[x,y]))"
      ],
      "execution_count": 6,
      "outputs": [
        {
          "output_type": "stream",
          "text": [
            "tf.Tensor(3.843571, shape=(), dtype=float32)\n",
            "[<tf.Tensor: shape=(), dtype=float32, numpy=2.6754794>, <tf.Tensor: shape=(), dtype=float32, numpy=-0.32976246>]\n"
          ],
          "name": "stdout"
        }
      ]
    },
    {
      "cell_type": "markdown",
      "metadata": {
        "id": "OYMrGuElowbD"
      },
      "source": [
        "Now that you know how to compute gradients of any function, it's time to put this to use fitting a neural net. First, here is some synthetic nonlinear regression data to which we can fit our model."
      ]
    },
    {
      "cell_type": "code",
      "metadata": {
        "id": "UGQSviJORkp5",
        "outputId": "6f22b6b9-511e-48a6-ae4a-702004ee87a5",
        "colab": {
          "base_uri": "https://localhost:8080/",
          "height": 265
        }
      },
      "source": [
        "n = 200\n",
        "x = np.random.uniform(low=-1, high=1, size=n)\n",
        "eps = 0.2 * np.random.randn(n)\n",
        "y = 4 * x * np.sin(4 * x) + eps\n",
        "\n",
        "x, y = x[:, np.newaxis].astype(np.float32), y[:, np.newaxis].astype(np.float32)\n",
        "\n",
        "plt.scatter(x, y, s=10)\n",
        "plt.show()"
      ],
      "execution_count": 7,
      "outputs": [
        {
          "output_type": "display_data",
          "data": {
            "image/png": "[encoded data removed]",
            "text/plain": [
              "<Figure size 432x288 with 1 Axes>"
            ]
          },
          "metadata": {
            "tags": [],
            "needs_background": "light"
          }
        }
      ]
    },
    {
      "cell_type": "markdown",
      "metadata": {
        "id": "LqZTsTfjpMbB"
      },
      "source": [
        "TensorFlow helps us compute gradients of functions. When fitting a neural net via gradient descent, the function that we want to take the gradient of is the loss function. So start by writting a function that compute the loss that we will use for our regression problem: mean squared error.\n",
        "\n",
        "If you need to take an average (hint: you should probably be taking an average), checkout out the `tf.reduce_mean` fuction."
      ]
    },
    {
      "cell_type": "code",
      "metadata": {
        "id": "p2whoJ_K2Rm7"
      },
      "source": [
        "def mse(y_true, y_pred):\n",
        "  '''\n",
        "  y_true: array of target values, shape: (batch size, 1)\n",
        "  y_pred: array of predicted values, shape: (batch size, 1)\n",
        "  '''\n",
        "  return tf.reduce_mean((y_true- y_pred)**2)"
      ],
      "execution_count": 25,
      "outputs": []
    },
    {
      "cell_type": "markdown",
      "metadata": {
        "id": "3x1eJgx1puiJ"
      },
      "source": [
        "Now let's write a function that does a single step of gradient descent. It should:\n",
        "1. use a gradient tape to track computation\n",
        "2. use `nn_2layers` to compute the prediction from the inputs\n",
        "3. use the `mse` function to compute the loss from the predictions and the targets\n",
        "4. use the gradient tape to compute the gradients\n",
        "5. use the gradients and the step size to update the parameters\n",
        "\n",
        "For updating the variable values, use the `assign()` method on any `Variable` rather than the usual Python assignment operator (`=`)"
      ]
    },
    {
      "cell_type": "code",
      "metadata": {
        "id": "tROIynfPrGDy"
      },
      "source": [
        "@tf.function\n",
        "def grad_step(x, y, params, f_hidden, f_out, step_size):\n",
        "  '''\n",
        "  updates `params` for a single step of gradient descent\n",
        "\n",
        "  x: array of inputs, shape: (batch size, input dim)\n",
        "  y: array of targets, shape: (batch size, 1)\n",
        "  params: list of parameters (tf.Variables), [w1, b1, w2, b2]]\n",
        "  f_hidden: activation function for the hidden layer\n",
        "  f_out: activation function for the output layer\n",
        "  step_size: gradient descent step size parameter\n",
        "\n",
        "  returns: the loss\n",
        "  '''\n",
        "  with tf.GradientTape() as tape:\n",
        "    yhat = nn_2layers(x,params,f_hidden,f_out)\n",
        "    loss = mse(y,yhat)\n",
        "  grads = tape.gradient(loss, params)\n",
        "  for var,grad in zip(params, grads):\n",
        "    var.assign(var-step_size*grad)\n",
        "  return loss"
      ],
      "execution_count": 22,
      "outputs": []
    },
    {
      "cell_type": "markdown",
      "metadata": {
        "id": "MjP5hIyzr7kU"
      },
      "source": [
        "Finally, let's put everything together to write a function that trains a neural net via gradient descent. Follow the following steps:\n",
        "1. Generate random initial values for the parameters (check out `tf.random.uniform` and pick reasonable bounds)\n",
        "2. Make `tf.Variable` values with these initial values\n",
        "3. Use a loop to call your `grad_step` function repeatedly and save the loss values in a list as you go so you can return it at the end\n",
        "\n",
        "We will assume that the input and targets are both 1-d, so the only thing we need to specify to know what shapes to use for the parameters is the number of units in the hidden layer."
      ]
    },
    {
      "cell_type": "code",
      "metadata": {
        "id": "ShUMw8_8syFo"
      },
      "source": [
        "from tqdm.notebook import tqdm\n",
        "\n",
        "def nn_grad_desc(x, y, n_hidden, f_hidden, f_out, step_size, n_iters):\n",
        "  '''\n",
        "  fit a two-layer neural net via gradient descent\n",
        "  '''\n",
        "  w1 = tf.random.uniform((1, n_hidden), minval=-1, maxval=1)\n",
        "  b1 = tf.random.uniform((n_hidden,), minval=-1, maxval=1)\n",
        "\n",
        "  w2 = tf.random.uniform((n_hidden, 1), minval=-1, maxval=1)\n",
        "  b2 = tf.random.uniform((1,), minval=-1, maxval=1)\n",
        "  \n",
        "  params = [tf.Variable(p) for p in [w1,b1,w2,b2]]\n",
        "\n",
        "  losses =[]\n",
        "  for i in tqdm(range(n_iters)):\n",
        "    loss = grad_step(x,y,params,f_hidden,f_out,step_size)\n",
        "    losses.append(loss)\n",
        "\n",
        "  return losses,params"
      ],
      "execution_count": 23,
      "outputs": []
    },
    {
      "cell_type": "markdown",
      "metadata": {
        "id": "zRZC3tBj0snH"
      },
      "source": [
        "Now put all of your hard work to use! Call your function to fit the neural net and then plot your neural nets predictions against the data.\n",
        "\n",
        "Some notes:\n",
        "- Use the `tf.linspace` function to get a set of evenly spaced values to predict on for plotting\n",
        "- Resuse your `nn_2layers` function to make predictions using the fitted parameters"
      ]
    },
    {
      "cell_type": "code",
      "metadata": {
        "id": "cvLM6zYn1RVM",
        "outputId": "9bd6b859-6e10-4669-9e3d-aebf52024f95",
        "colab": {
          "base_uri": "https://localhost:8080/",
          "height": 562,
          "referenced_widgets": [
            "5e0ab09a91f94d51a7d5885bcbaaa4fb",
            "e13b85dcdd8c47048ac8686e8416c9f7",
            "9e1f57eddb344542b57c861a517102b0",
            "5d24b4510d07479eb221cc7943556d2f",
            "f7cf87d7e91440669ed657f8992349ab",
            "0226edd2bdf94af4b4cae8bea979b180",
            "8f21acc8b7a1437a935a54cd540add93",
            "12179d2c4ce2466eb1707b8cba266246"
          ]
        }
      },
      "source": [
        "losses,vars=nn_grad_desc(\n",
        "    x,y,n_hidden =8, f_hidden=tf.nn.tanh,f_out=linear,\n",
        "    step_size=0.1, n_iters=1000\n",
        ")\n",
        "\n",
        "plt.plot(losses)\n",
        "plt.show()\n",
        "\n",
        "x_grid=tf.linspace(x.min(),x.max(),200)[:,tf.newaxis]\n",
        "yhat=nn_2layers(x_grid,vars,tf.nn.tanh,linear)\n",
        "plt.scatter(x,y,s=10)\n",
        "plt.plot([],[])\n",
        "plt.plot(x_grid,yhat)\n",
        "plt.show()"
      ],
      "execution_count": 29,
      "outputs": [
        {
          "output_type": "display_data",
          "data": {
            "application/vnd.jupyter.widget-view+json": {
              "model_id": "5e0ab09a91f94d51a7d5885bcbaaa4fb",
              "version_minor": 0,
              "version_major": 2
            },
            "text/plain": [
              "HBox(children=(FloatProgress(value=0.0, max=1000.0), HTML(value='')))"
            ]
          },
          "metadata": {
            "tags": []
          }
        },
        {
          "output_type": "stream",
          "text": [
            "\n"
          ],
          "name": "stdout"
        },
        {
          "output_type": "display_data",
          "data": {
            "image/png": "[encoded data removed]",
            "text/plain": [
              "<Figure size 432x288 with 1 Axes>"
            ]
          },
          "metadata": {
            "tags": [],
            "needs_background": "light"
          }
        },
        {
          "output_type": "display_data",
          "data": {
            "image/png": "[encoded data removed]",
            "text/plain": [
              "<Figure size 432x288 with 1 Axes>"
            ]
          },
          "metadata": {
            "tags": [],
            "needs_background": "light"
          }
        }
      ]
    }
  ]
}